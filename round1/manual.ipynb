{
 "cells": [
  {
   "cell_type": "code",
   "execution_count": 1,
   "metadata": {},
   "outputs": [
    {
     "name": "stdout",
     "output_type": "stream",
     "text": [
      "1.08868032\n",
      "[0, 2, 1, 0, 3]\n",
      "44340.15999999996\n"
     ]
    }
   ],
   "source": [
    "conv = [[1,1.45,0.52,0.72],[0.7,1,0.31,0.48],[1.95,3.1,1,1.49],[1.34,1.98,0.64,1]]\n",
    "\n",
    "maxRate = 0\n",
    "maxSt = []\n",
    "\n",
    "def dfs(lim,i,rate,st):\n",
    "    global maxRate, maxSt\n",
    "    if i==3:\n",
    "        if rate>maxRate:\n",
    "            maxRate = rate\n",
    "            maxSt = st\n",
    "    if lim==0:\n",
    "        return\n",
    "    for j in range(4):\n",
    "        dfs(lim-1,j,rate*conv[i][j],st+[j])\n",
    "\n",
    "dfs(5,3,1,[])\n",
    "print(maxRate)\n",
    "print(maxSt)\n",
    "print((maxRate-1)*500000)"
   ]
  },
  {
   "cell_type": "code",
   "execution_count": 5,
   "metadata": {},
   "outputs": [
    {
     "name": "stdout",
     "output_type": "stream",
     "text": [
      "v END\n",
      "4\n",
      "1\n",
      "2\n",
      "3\n",
      "1\n",
      "^ START\n",
      "ratio: 1.08868032\n"
     ]
    }
   ],
   "source": [
    "# Lucas' Jank\n",
    "\n",
    "exchange = {1: [1, 1.45, .52, .72], 2: [.7, 1, .31, .48], 3: [1.95, 3.1, 1, 1.49], 4: [1.34, 1.98, .64, 1]}\n",
    "print(\"v END\")\n",
    "def reccur(step_left, item, amount):\n",
    "\t\n",
    "\tif step_left == 0:\n",
    "\t\tif item == 4 and amount > 1.08:\n",
    "\t\t\t\n",
    "\t\t\treturn amount\n",
    "\t\treturn 0\n",
    "\t\n",
    "\tmax = 0\n",
    "\tindex = 0\n",
    "\tfor i in range(4):\n",
    "\n",
    "\t\tv = reccur(step_left - 1, i+1, amount * exchange[item][i])\n",
    "\t\t\n",
    "\t\tif v > max:\n",
    "\t\t\tmax = v\n",
    "\t\t\tindex = i+1\n",
    "\tif index != 0:\n",
    "\t\tprint(index)\n",
    "\treturn max\n",
    "z = reccur(5, 4, 1)\n",
    "print(\"^ START\")\n",
    "print(\"ratio:\", z)"
   ]
  }
 ],
 "metadata": {
  "kernelspec": {
   "display_name": "Python 3",
   "language": "python",
   "name": "python3"
  },
  "language_info": {
   "codemirror_mode": {
    "name": "ipython",
    "version": 3
   },
   "file_extension": ".py",
   "mimetype": "text/x-python",
   "name": "python",
   "nbconvert_exporter": "python",
   "pygments_lexer": "ipython3",
   "version": "3.12.1"
  }
 },
 "nbformat": 4,
 "nbformat_minor": 2
}
